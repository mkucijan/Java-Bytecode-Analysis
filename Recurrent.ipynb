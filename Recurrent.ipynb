{
 "cells": [
  {
   "cell_type": "code",
   "execution_count": 1,
   "metadata": {},
   "outputs": [],
   "source": [
    "import tensorflow as tf\n",
    "\n",
    "import os\n",
    "import pickle\n",
    "\n",
    "import numpy as np\n",
    "import matplotlib.pyplot as plt\n",
    "from collections import Counter"
   ]
  },
  {
   "cell_type": "code",
   "execution_count": 2,
   "metadata": {},
   "outputs": [],
   "source": [
    "dir_path = os.getcwd()"
   ]
  },
  {
   "cell_type": "code",
   "execution_count": 3,
   "metadata": {},
   "outputs": [],
   "source": [
    "#load embendings\n",
    "\n",
    "embeddings = np.loadtxt(os.path.join(dir_path,'cache','embeddings.vec'))\n",
    "\n",
    "pickle_in = open('cache/database.dict', 'rb')\n",
    "db = pickle.load(pickle_in)\n",
    "pickle_in.close()\n",
    "\n",
    "pickle_in = open('cache/traindata.list', 'rb')\n",
    "traindata = pickle.load(pickle_in)\n",
    "pickle_in.close()\n",
    "\n",
    "pickle_in = open('cache/data2onehot.dict', 'rb')\n",
    "dictionary = pickle.load(pickle_in)\n",
    "pickle_in.close()"
   ]
  },
  {
   "cell_type": "code",
   "execution_count": 4,
   "metadata": {},
   "outputs": [],
   "source": [
    "longest = np.argmax(list(map(lambda x : len(x),traindata)))"
   ]
  },
  {
   "cell_type": "code",
   "execution_count": 5,
   "metadata": {},
   "outputs": [
    {
     "name": "stdout",
     "output_type": "stream",
     "text": [
      "1662\n"
     ]
    }
   ],
   "source": [
    "print(longest)"
   ]
  },
  {
   "cell_type": "code",
   "execution_count": 6,
   "metadata": {},
   "outputs": [
    {
     "name": "stdout",
     "output_type": "stream",
     "text": [
      "47701\n"
     ]
    }
   ],
   "source": [
    "print(len(traindata[longest]))"
   ]
  },
  {
   "cell_type": "code",
   "execution_count": 7,
   "metadata": {},
   "outputs": [],
   "source": [
    "from JavaClassParser import ByteCode\n",
    "reverse_dictionary = dict(zip(dictionary.values(),dictionary.keys()))\n",
    "X_train=[]\n",
    "Ylabels=[]\n",
    "X_train_long=[]\n",
    "Ylabels_long=[]\n",
    "X_labels = []\n",
    "Y_labels = []\n",
    "\n",
    "X_if = []\n",
    "Y_if = []\n",
    "\n",
    "for dclass in db.values():\n",
    "    for method in dclass.values():\n",
    "        instructions = method['x']\n",
    "        labels = method['y']\n",
    "        byteIndex = method['index']\n",
    "        \n",
    "        #\n",
    "        #seperating by labels\n",
    "        \n",
    "        cur_section = []\n",
    "        cur_label = labels[0]\n",
    "        for instruction, label in zip(instructions,labels):\n",
    "            if label != cur_label:\n",
    "                if len(cur_section)<100:\n",
    "                    X_train.append(cur_section)\n",
    "                    Ylabels.append(cur_label)\n",
    "                else:\n",
    "                    X_train_long.append(cur_section)\n",
    "                    Ylabels_long.append(cur_label)\n",
    "                X_labels.append(cur_section)\n",
    "                Y_labels.append(cur_label)\n",
    "                cur_section = []\n",
    "                cur_label = label\n",
    "            cur_section.append(dictionary.get(instruction,0))\n",
    "        \n",
    "        #print(instructions)\n",
    "        \n",
    "        \n",
    "        #\n",
    "        #seperating by if jumps\n",
    "        \n",
    "        for i,label in zip(range(len(instructions)),labels):\n",
    "        #index = method[i]\n",
    "        #instruction = reverse_dictionary[index]\n",
    "            instruction = instructions[i]\n",
    "            if 'if' in instruction[:2]:\n",
    "                #offset = int(reverse_dictionary[method[i+1]])\n",
    "                offset = int(instructions[i+1])\n",
    "                j = i\n",
    "                step = np.sign(offset)\n",
    "                curr = byteIndex[i]\n",
    "                end = curr+offset\n",
    "                section = []\n",
    "                while(curr!=end):\n",
    "                    section.append(dictionary.get(instructions[j],0))\n",
    "                    if instructions[j] in ByteCode.mnemonicMap:\n",
    "                        #curr += ByteCode.mnemonicMap[instructions[j]].getOpCodeCount() + 1\n",
    "                        curr = byteIndex[j]\n",
    "                    j += step\n",
    "                    if curr>=abs(offset):\n",
    "                        argCounts = ByteCode.mnemonicMap[instructions[j-step]].argsCount\n",
    "                        for arg in argCounts:\n",
    "                            if arg > 0:\n",
    "                                section.append(dictionary.get(instructions[j],0))\n",
    "                                j += step\n",
    "                        break\n",
    "\n",
    "                if offset<0:\n",
    "                    section = list(reversed(section))\n",
    "                    section.append(dictionary.get(instructions[i+1],0))\n",
    "                \n",
    "                X_if.append(section)\n",
    "                Y_if.append(label)\n",
    "                \n",
    "        #'''\n",
    "   "
   ]
  },
  {
   "cell_type": "code",
   "execution_count": 8,
   "metadata": {},
   "outputs": [
    {
     "name": "stdout",
     "output_type": "stream",
     "text": [
      "7328\n",
      "9878\n"
     ]
    }
   ],
   "source": [
    "lens_if = np.array(list(map(lambda x : len(x),X_if)))\n",
    "longest_if = np.max(lens_if)\n",
    "print(len(lens_if))\n",
    "\n",
    "\n",
    "lens_labels = np.array(list(map(lambda x : len(x),X_labels)))\n",
    "longest_labels = np.max(lens_labels)\n",
    "print(len(lens_labels))\n"
   ]
  },
  {
   "cell_type": "code",
   "execution_count": 9,
   "metadata": {},
   "outputs": [
    {
     "name": "stdout",
     "output_type": "stream",
     "text": [
      "1794\n",
      "1992\n"
     ]
    }
   ],
   "source": [
    "print(longest_if)\n",
    "print(longest_labels)"
   ]
  },
  {
   "cell_type": "code",
   "execution_count": 10,
   "metadata": {},
   "outputs": [
    {
     "name": "stdout",
     "output_type": "stream",
     "text": [
      "15.2491812227\n",
      "24.4070662077\n"
     ]
    }
   ],
   "source": [
    "print(sum(lens_if)/len(X_if) )\n",
    "print(sum(lens_labels)/len(X_labels) )"
   ]
  },
  {
   "cell_type": "code",
   "execution_count": 11,
   "metadata": {},
   "outputs": [
    {
     "data": {
      "image/png": "[encoded data removed]",
      "text/plain": [
       "<matplotlib.figure.Figure at 0x1dbd3e51f60>"
      ]
     },
     "metadata": {},
     "output_type": "display_data"
    },
    {
     "data": {
      "image/png": "[encoded data removed]",
      "text/plain": [
       "<matplotlib.figure.Figure at 0x1dbd42670f0>"
      ]
     },
     "metadata": {},
     "output_type": "display_data"
    }
   ],
   "source": [
    "cutoff=2\n",
    "xy_axis_if = list(Counter(lens_if).items())\n",
    "xy_axis_labels = list(Counter(lens_labels).items())\n",
    "\n",
    "xy_axis_if.sort(key=lambda x: x[0])\n",
    "xy_axis_if=np.array(xy_axis_if)\n",
    "xy_axis_if=xy_axis_if[np.where(xy_axis_if[:,0]>cutoff)]\n",
    "x_axis_if, y_axis_if = zip(*xy_axis_if)\n",
    "plt.plot(x_axis_if, y_axis_if)\n",
    "plt.show()\n",
    "\n",
    "xy_axis_labels.sort(key=lambda x: x[0])\n",
    "xy_axis_labels=np.array(xy_axis_labels)\n",
    "xy_axis_labels=xy_axis_if[np.where(xy_axis_labels[:,0]>cutoff)]\n",
    "x_axis_labels, y_axis_labels = zip(*xy_axis_labels)\n",
    "plt.plot(x_axis_labels, y_axis_labels)\n",
    "plt.show()"
   ]
  },
  {
   "cell_type": "code",
   "execution_count": 12,
   "metadata": {},
   "outputs": [],
   "source": [
    "lens = lens_labels\n",
    "X_10 = np.where((lens<=10) )[0]\n",
    "X_100 =  np.where(((lens>10) & (lens<=100)))[0]\n",
    "X_1000 =  np.where((lens>100) & (lens<=1000))[0]\n",
    "X_10000 = np.where((lens>1000) & (lens<=10000))[0]"
   ]
  },
  {
   "cell_type": "code",
   "execution_count": 13,
   "metadata": {},
   "outputs": [
    {
     "name": "stdout",
     "output_type": "stream",
     "text": [
      "3207\n",
      "6489\n",
      "176\n",
      "6\n"
     ]
    },
    {
     "data": {
      "text/plain": [
       "9878"
      ]
     },
     "execution_count": 13,
     "metadata": {},
     "output_type": "execute_result"
    }
   ],
   "source": [
    "print(len(X_10))\n",
    "print(len(X_100))\n",
    "print(len(X_1000))\n",
    "print(len(X_10000))\n",
    "sum([len(X_10),len(X_100),len(X_1000),len(X_10000)])"
   ]
  },
  {
   "cell_type": "code",
   "execution_count": null,
   "metadata": {},
   "outputs": [],
   "source": []
  },
  {
   "cell_type": "code",
   "execution_count": null,
   "metadata": {},
   "outputs": [],
   "source": []
  },
  {
   "cell_type": "code",
   "execution_count": null,
   "metadata": {},
   "outputs": [],
   "source": []
  },
  {
   "cell_type": "code",
   "execution_count": 14,
   "metadata": {},
   "outputs": [],
   "source": [
    "indices=list(zip(range(len(lens_labels)),lens_labels))\n",
    "indices=sorted(indices, key=lambda x:x[1])\n",
    "indices, lens_sorted = zip(*indices)\n",
    "indices = np.array(indices)[np.where(np.array(lens_sorted)>cutoff)]\n",
    "lens_sorted = np.array(lens_sorted)"
   ]
  },
  {
   "cell_type": "code",
   "execution_count": 15,
   "metadata": {},
   "outputs": [
    {
     "name": "stdout",
     "output_type": "stream",
     "text": [
      "9539\n",
      "3\n"
     ]
    }
   ],
   "source": [
    "print(len(indices))\n",
    "indices=indices[39:]\n",
    "print(lens_labels[2])\n",
    "Y_labels = np.array(Y_labels)"
   ]
  },
  {
   "cell_type": "code",
   "execution_count": 16,
   "metadata": {},
   "outputs": [],
   "source": [
    "X_labels=np.array(X_labels)"
   ]
  },
  {
   "cell_type": "code",
   "execution_count": 17,
   "metadata": {},
   "outputs": [],
   "source": [
    "def length(sequence):\n",
    "    used = tf.sign(tf.reduce_max(tf.abs(sequence), 2))\n",
    "    length = tf.reduce_sum(used, 1)\n",
    "    length = tf.cast(length, tf.int32)\n",
    "    return length\n",
    "\n",
    "def cost(output, target):\n",
    "    # Compute cross entropy for each frame.\n",
    "    cross_entropy = target * tf.log(output)\n",
    "    cross_entropy = -tf.reduce_sum(cross_entropy, 2)\n",
    "    mask = tf.sign(tf.reduce_max(tf.abs(target), 2))\n",
    "    cross_entropy *= mask\n",
    "    # Average over actual sequence lengths.\n",
    "    cross_entropy = tf.reduce_sum(cross_entropy, 1)\n",
    "    cross_entropy /= tf.reduce_sum(mask, 1)\n",
    "    return tf.reduce_mean(cross_entropy)\n",
    "\n",
    "def last_relevant(output, length):\n",
    "    batch_size = tf.shape(output)[0]\n",
    "    max_length = tf.shape(output)[1]\n",
    "    out_size = int(output.get_shape()[2])\n",
    "    index = tf.range(0, batch_size) * max_length + (length - 1)\n",
    "    flat = tf.reshape(output, [-1, out_size])\n",
    "    relevant = tf.gather(flat, index)\n",
    "    return relevant\n"
   ]
  },
  {
   "cell_type": "code",
   "execution_count": 33,
   "metadata": {},
   "outputs": [],
   "source": [
    "N = indices.shape[0]\n",
    "output_size = np.max(Y_labels[:,1])+1\n",
    "learning_rate = 1e-1\n",
    "batch_size = 50\n",
    "hidden_size = 100\n",
    "num_features =embeddings.shape[1]\n",
    "num_epochs = 100\n",
    "n_steps = N//batch_size"
   ]
  },
  {
   "cell_type": "code",
   "execution_count": 19,
   "metadata": {},
   "outputs": [
    {
     "name": "stderr",
     "output_type": "stream",
     "text": [
      "C:\\ProgramData\\Anaconda3\\lib\\site-packages\\tensorflow\\python\\ops\\gradients_impl.py:96: UserWarning: Converting sparse IndexedSlices to a dense Tensor of unknown shape. This may consume a large amount of memory.\n",
      "  \"Converting sparse IndexedSlices to a dense Tensor of unknown shape. \"\n"
     ]
    }
   ],
   "source": [
    "rnn_graph = tf.Graph()\n",
    "\n",
    "with rnn_graph.as_default():\n",
    "    sequence = tf.placeholder(tf.float32,[batch_size, None ,num_features])\n",
    "    labels= tf.placeholder(tf.float32,[batch_size,output_size])\n",
    "    seq_len = tf.placeholder(tf.int32, [batch_size])\n",
    "\n",
    "    cell=tf.contrib.rnn.BasicRNNCell(hidden_size)\n",
    "    W = tf.Variable(tf.random_normal([hidden_size, output_size]))\n",
    "    b = tf.Variable(tf.random_normal([output_size]))\n",
    "\n",
    "    initial_state = cell.zero_state(batch_size, dtype=tf.float32)\n",
    "\n",
    "\n",
    "    outputs, state = tf.nn.dynamic_rnn(cell, sequence, \n",
    "            initial_state=initial_state, sequence_length=seq_len)\n",
    "\n",
    "    batch_len_t = tf.shape(outputs)[0]\n",
    "    max_length_t = tf.shape(outputs)[1]\n",
    "    out_size_t = int(outputs.get_shape()[2])\n",
    "    index_t = tf.range(0, batch_len_t) * max_length_t + (seq_len - 1)\n",
    "    flat_t = tf.reshape(outputs, [-1, out_size_t])\n",
    "    output = tf.gather(flat_t, index_t)\n",
    "\n",
    "\n",
    "    logits = tf.matmul(output,W)+b\n",
    "    loss = tf.nn.softmax_cross_entropy_with_logits(labels=labels,logits=logits)\n",
    "\n",
    "    train_step = tf.train.AdamOptimizer(learning_rate).minimize(loss)\n",
    "    correct_prediction = tf.equal(tf.argmax(logits, 1), tf.argmax(labels, 1))\n",
    "    accuracy = tf.reduce_mean(tf.cast(correct_prediction, tf.float32))    \n"
   ]
  },
  {
   "cell_type": "code",
   "execution_count": 35,
   "metadata": {},
   "outputs": [
    {
     "name": "stdout",
     "output_type": "stream",
     "text": [
      "acc: 0.405052633093\n",
      "acc: 0.383789472243\n",
      "acc: 0.392842104639\n",
      "acc: 0.396526316906\n",
      "acc: 0.384210527473\n",
      "acc: 0.398842107093\n",
      "acc: 0.400947368851\n",
      "acc: 0.4165263164\n",
      "acc: 0.390105263301\n",
      "acc: 0.456315789568\n",
      "acc: 0.347052632292\n",
      "acc: 0.339789474285\n",
      "acc: 0.330421052403\n",
      "acc: 0.362000000653\n",
      "acc: 0.358526315462\n",
      "acc: 0.376947368211\n",
      "acc: 0.356105263668\n",
      "acc: 0.355263156679\n",
      "acc: 0.339684210875\n",
      "acc: 0.33684210491\n",
      "acc: 0.360631578847\n",
      "acc: 0.353052631785\n",
      "acc: 0.339894736146\n",
      "acc: 0.369789473634\n",
      "acc: 0.356526316036\n",
      "acc: 0.361263157545\n",
      "acc: 0.357894737705\n",
      "acc: 0.359473684175\n",
      "acc: 0.359368421294\n",
      "acc: 0.37052631535\n",
      "acc: 0.381263158117\n",
      "acc: 0.383789473262\n",
      "acc: 0.372315789975\n",
      "acc: 0.366526316361\n",
      "acc: 0.361368422112\n",
      "acc: 0.340000000008\n",
      "acc: 0.349578948142\n",
      "acc: 0.361894736694\n",
      "acc: 0.364736842286\n",
      "acc: 0.357684210688\n",
      "acc: 0.387578948195\n",
      "acc: 0.373789474643\n",
      "acc: 0.364631579091\n",
      "acc: 0.360736842689\n",
      "acc: 0.360842106785\n",
      "acc: 0.369368423267\n",
      "acc: 0.372947368163\n",
      "acc: 0.353473684545\n",
      "acc: 0.370631578937\n",
      "acc: 0.363368422185\n",
      "acc: 0.35252631538\n",
      "acc: 0.364000000863\n",
      "acc: 0.352631579634\n",
      "acc: 0.363578946065\n",
      "acc: 0.355052631917\n",
      "acc: 0.356105262865\n",
      "acc: 0.370421054097\n",
      "acc: 0.350526316189\n",
      "acc: 0.355999999905\n",
      "acc: 0.333684209911\n",
      "acc: 0.354842105586\n",
      "acc: 0.359263157923\n",
      "acc: 0.365052631262\n",
      "acc: 0.329789473999\n",
      "acc: 0.370105263061\n",
      "acc: 0.362526315255\n",
      "acc: 0.364315790624\n",
      "acc: 0.366210526699\n",
      "acc: 0.349789474669\n",
      "acc: 0.373578947606\n",
      "acc: 0.375473683406\n",
      "acc: 0.400315789545\n",
      "acc: 0.375473685269\n",
      "acc: 0.35305263302\n",
      "acc: 0.374526315555\n",
      "acc: 0.378315788684\n",
      "acc: 0.36947368403\n",
      "acc: 0.370736840191\n",
      "acc: 0.352210526384\n",
      "acc: 0.393473683709\n",
      "acc: 0.381684210465\n",
      "acc: 0.385578946887\n",
      "acc: 0.361578947443\n",
      "acc: 0.37463157922\n",
      "acc: 0.364421052662\n",
      "acc: 0.404315789083\n",
      "acc: 0.374105262992\n",
      "acc: 0.384315788138\n",
      "acc: 0.360526315182\n",
      "acc: 0.331789472366\n",
      "acc: 0.348842105701\n",
      "acc: 0.376631577921\n",
      "acc: 0.353473684623\n",
      "acc: 0.339684210718\n",
      "acc: 0.360000001012\n",
      "acc: 0.345894737169\n",
      "acc: 0.333473684207\n",
      "acc: 0.347894736968\n",
      "acc: 0.363473685321\n",
      "acc: 0.351684211018\n"
     ]
    }
   ],
   "source": [
    "with tf.Session(graph=rnn_graph) as session:\n",
    "    iop = tf.global_variables_initializer()\n",
    "    session.run(iop)\n",
    "    for epoch in range(num_epochs):\n",
    "        acc_sum=0\n",
    "        for step in range(n_steps):\n",
    "            index = indices[batch_size*(step):batch_size*(step+1)]\n",
    "            sequence_len = lens_labels[index]\n",
    "            max_len = np.max(sequence_len)\n",
    "            data = np.zeros([batch_size,max_len,num_features])\n",
    "            batch_labels = np.eye(output_size)[Y_labels[index,1]]\n",
    "            X = X_labels[index]\n",
    "            for i in range(batch_size):\n",
    "                for j in range(len([X[i]])):\n",
    "                    data[i,j,:] = embeddings[X[i][j]]\n",
    "            feed = {sequence:data,labels:batch_labels,seq_len:sequence_len}\n",
    "            \n",
    "            acc, pred, _ = session.run([accuracy, correct_prediction, train_step], feed_dict=feed)\n",
    "            acc_sum += acc\n",
    "            \n",
    "        print(\"acc:\",acc_sum/n_steps)\n",
    "    "
   ]
  },
  {
   "cell_type": "code",
   "execution_count": null,
   "metadata": {},
   "outputs": [],
   "source": []
  }
 ],
 "metadata": {
  "kernelspec": {
   "display_name": "Python 3",
   "language": "python",
   "name": "python3"
  },
  "language_info": {
   "codemirror_mode": {
    "name": "ipython",
    "version": 3
   },
   "file_extension": ".py",
   "mimetype": "text/x-python",
   "name": "python",
   "nbconvert_exporter": "python",
   "pygments_lexer": "ipython3",
   "version": "3.6.3"
  }
 },
 "nbformat": 4,
 "nbformat_minor": 2
}
